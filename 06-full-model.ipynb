{
 "cells": [
  {
   "cell_type": "code",
   "execution_count": 1,
   "metadata": {},
   "outputs": [],
   "source": [
    "from tensorflow.compat.v1 import ConfigProto\n",
    "from tensorflow.compat.v1 import InteractiveSession\n",
    "config = ConfigProto()\n",
    "config.gpu_options.allow_growth = True\n",
    "session = InteractiveSession(config=config)"
   ]
  },
  {
   "cell_type": "code",
   "execution_count": 2,
   "metadata": {},
   "outputs": [],
   "source": [
    "import pandas as pd\n",
    "import numpy as np\n",
    "import datetime\n",
    "from pandas_summary import DataFrameSummary"
   ]
  },
  {
   "cell_type": "code",
   "execution_count": 3,
   "metadata": {},
   "outputs": [],
   "source": [
    "from tensorflow.keras.utils import to_categorical"
   ]
  },
  {
   "cell_type": "code",
   "execution_count": 4,
   "metadata": {},
   "outputs": [],
   "source": [
    "df = pd.read_feather('train_normalized_data.fth')\n",
    "df_test = pd.read_feather('test_normalized_data.fth')"
   ]
  },
  {
   "cell_type": "code",
   "execution_count": 5,
   "metadata": {},
   "outputs": [],
   "source": [
    "cat_vars = ['Store', 'DayOfWeek', 'Year', 'Month', 'Day', 'StateHoliday', 'CompetitionMonthsOpen', 'Promo2Weeks', \n",
    "            'StoreType', 'Assortment', 'PromoInterval', 'CompetitionOpenSinceYear', 'Promo2SinceYear', 'State', \n",
    "            'Week', 'Events', 'Promo_fw', 'Promo_bw', 'StateHoliday_bool_fw', 'StateHoliday_bool_bw', 'SchoolHoliday_fw', 'SchoolHoliday_bw']\n",
    "\n",
    "cat_vars = ['Store', 'DayOfWeek']"
   ]
  },
  {
   "cell_type": "code",
   "execution_count": 6,
   "metadata": {},
   "outputs": [],
   "source": [
    "contin_vars = ['CompetitionDistance', \n",
    "   'Max_TemperatureC', 'Mean_TemperatureC', 'Min_TemperatureC', 'Precipitationmm',\n",
    "   'Max_Humidity', 'Mean_Humidity', 'Min_Humidity', 'Max_Wind_SpeedKm_h', \n",
    "   'Mean_Wind_SpeedKm_h', 'CloudCover', 'trend', 'trend_DE',\n",
    "   'AfterStateHoliday_bool', 'BeforeStateHoliday_bool', 'Promo', 'SchoolHoliday', 'StateHoliday_bool']\n",
    "contin_vars = ['BeforeStateHoliday_bool', 'Max_TemperatureC']"
   ]
  },
  {
   "cell_type": "code",
   "execution_count": 7,
   "metadata": {},
   "outputs": [],
   "source": [
    "uniques = DataFrameSummary(df[cat_vars]).summary().loc[['uniques']]"
   ]
  },
  {
   "cell_type": "code",
   "execution_count": 8,
   "metadata": {},
   "outputs": [
    {
     "data": {
      "text/html": [
       "<div>\n",
       "<style scoped>\n",
       "    .dataframe tbody tr th:only-of-type {\n",
       "        vertical-align: middle;\n",
       "    }\n",
       "\n",
       "    .dataframe tbody tr th {\n",
       "        vertical-align: top;\n",
       "    }\n",
       "\n",
       "    .dataframe thead th {\n",
       "        text-align: right;\n",
       "    }\n",
       "</style>\n",
       "<table border=\"1\" class=\"dataframe\">\n",
       "  <thead>\n",
       "    <tr style=\"text-align: right;\">\n",
       "      <th></th>\n",
       "      <th>uniques</th>\n",
       "    </tr>\n",
       "  </thead>\n",
       "  <tbody>\n",
       "    <tr>\n",
       "      <th>Store</th>\n",
       "      <td>1115</td>\n",
       "    </tr>\n",
       "    <tr>\n",
       "      <th>DayOfWeek</th>\n",
       "      <td>7</td>\n",
       "    </tr>\n",
       "  </tbody>\n",
       "</table>\n",
       "</div>"
      ],
      "text/plain": [
       "          uniques\n",
       "Store        1115\n",
       "DayOfWeek       7"
      ]
     },
     "execution_count": 8,
     "metadata": {},
     "output_type": "execute_result"
    }
   ],
   "source": [
    "uniques.T"
   ]
  },
  {
   "cell_type": "markdown",
   "metadata": {},
   "source": [
    "# Asignación de dimensión de embeddings"
   ]
  },
  {
   "cell_type": "code",
   "execution_count": 9,
   "metadata": {},
   "outputs": [],
   "source": [
    "cat_var_dict = {'Store': 50, 'DayOfWeek': 2, 'Year': 2, 'Month': 2,\n",
    "'Day': 10, 'StateHoliday': 2, 'CompetitionMonthsOpen': 2,\n",
    "'Promo2Weeks': 1, 'StoreType': 2, 'Assortment': 3, 'PromoInterval': 3,\n",
    "'CompetitionOpenSinceYear': 4, 'Promo2SinceYear': 4, 'State': 6,\n",
    "'Week': 25, 'Events': 4, 'Promo_fw': 1,\n",
    "'Promo_bw': 1, 'StateHoliday_bool_fw': 1,\n",
    "'StateHoliday_bool_bw': 1, 'SchoolHoliday_fw': 1,\n",
    "'SchoolHoliday_bw': 1}"
   ]
  },
  {
   "cell_type": "code",
   "execution_count": 10,
   "metadata": {},
   "outputs": [
    {
     "name": "stdout",
     "output_type": "stream",
     "text": [
      "Store 50 1115 [   0    1    2 ... 1112 1113 1114]\n",
      "\n",
      "DayOfWeek 2 7 [0 1 2 3 4 5 6]\n",
      "\n"
     ]
    }
   ],
   "source": [
    "for v in cat_vars:\n",
    "    uniques_ = df[v].unique()\n",
    "    uniques_.sort()\n",
    "    print(v, cat_var_dict[v], len(uniques_), uniques_)\n",
    "    print()"
   ]
  },
  {
   "cell_type": "markdown",
   "metadata": {},
   "source": [
    "# Definición de modelo"
   ]
  },
  {
   "cell_type": "code",
   "execution_count": 11,
   "metadata": {},
   "outputs": [],
   "source": [
    "add_customers = True\n",
    "log_output = False\n",
    "output_activation = 'linear'"
   ]
  },
  {
   "cell_type": "code",
   "execution_count": 12,
   "metadata": {},
   "outputs": [],
   "source": [
    "from tensorflow.keras.models import Model\n",
    "from tensorflow.keras.callbacks import ModelCheckpoint\n",
    "from tensorflow.keras.optimizers import Adam\n",
    "from tensorflow.keras.layers import Embedding, Input, Flatten, Concatenate, Dense, BatchNormalization, Activation, LeakyReLU, Dropout\n",
    "from tensorflow.keras.regularizers import l2"
   ]
  },
  {
   "cell_type": "code",
   "execution_count": 13,
   "metadata": {},
   "outputs": [],
   "source": [
    "def get_cat_vars_model(cat_vars, uniques, cat_var_dict):\n",
    "    cat_vars_embed_outs = []\n",
    "    cat_var_inputs = []\n",
    "    for cat_var in cat_vars:\n",
    "        cat_var_in = Input(shape=(1,), name=f\"{cat_var}_input\")\n",
    "        cat_var_inputs.append(cat_var_in)\n",
    "        embed_out = Embedding(uniques[cat_var][0], cat_var_dict[cat_var], name=f'{cat_var}_Embed')(cat_var_in)\n",
    "        flatten_out = Flatten(name=f\"{cat_var}_flat\")(embed_out)\n",
    "        cat_vars_embed_outs.append(flatten_out)\n",
    "    return cat_var_inputs, cat_vars_embed_outs\n",
    "\n",
    "def get_cont_vars_input(contin_vars, dense_layer=False):\n",
    "    cont_vars_inputs = []\n",
    "    cont_vars_outputs = []\n",
    "    for cont_var in contin_vars:\n",
    "        cont_var_in = Input(shape=(1,), name=f\"{cont_var}_input\")\n",
    "        cont_vars_inputs.append(cont_var_in)\n",
    "        if dense_layer:\n",
    "            cont_var_out = Dense(1, name=f\"{cont_var}_input\", activation = 'linear')(cont_var_in)\n",
    "            cont_vars_outputs.append(cont_var_out)\n",
    "        else:\n",
    "            cont_vars_outputs.append(cont_var_in)\n",
    "    return cont_vars_inputs, cont_vars_outputs"
   ]
  },
  {
   "cell_type": "code",
   "execution_count": 14,
   "metadata": {},
   "outputs": [],
   "source": [
    "cat_var_inputs, cat_vars_embed_outs = get_cat_vars_model(cat_vars, uniques, cat_var_dict)\n",
    "cont_vars_inputs,  cont_vars_outs= get_cont_vars_input(contin_vars)"
   ]
  },
  {
   "cell_type": "code",
   "execution_count": 15,
   "metadata": {},
   "outputs": [],
   "source": [
    "# Descomentar para ver resultados\n",
    "# cat_vars_embed_outs\n",
    "# cat_var_inputs\n",
    "# cont_vars_inputs\n",
    "# cont_vars_outs"
   ]
  },
  {
   "cell_type": "code",
   "execution_count": 16,
   "metadata": {},
   "outputs": [],
   "source": [
    "first_hidden_units = 1000\n",
    "second_hidden_units = 500\n",
    "l2_lambda = 1e-3\n",
    "merged = Concatenate(name='All_Concatenate')(cat_vars_embed_outs + cont_vars_inputs)\n",
    "x = Dense(first_hidden_units, kernel_initializer=\"uniform\", kernel_regularizer=l2(l2_lambda))(merged)\n",
    "# x = BatchNormalization()(x)\n",
    "x = Activation('relu')(x)\n",
    "# x = LeakyReLU()(x)\n",
    "x = Dense(second_hidden_units, kernel_initializer=\"uniform\", kernel_regularizer=l2(l2_lambda))(x)\n",
    "# x = BatchNormalization()(x)\n",
    "x = Activation('relu')(x)\n",
    "# x = LeakyReLU()(x)\n",
    "\n",
    "output_1 = Dense(1, name='Sales', activation=output_activation)(x)\n",
    "output_2 = Dense(1, name='Customers', activation=output_activation)(x)"
   ]
  },
  {
   "cell_type": "code",
   "execution_count": 17,
   "metadata": {},
   "outputs": [],
   "source": [
    "if add_customers:\n",
    "    model = Model(cat_var_inputs + cont_vars_inputs, [output_1, output_2])\n",
    "else: \n",
    "    model = Model(cat_var_inputs + cont_vars_inputs, [output_1])"
   ]
  },
  {
   "cell_type": "code",
   "execution_count": 18,
   "metadata": {},
   "outputs": [
    {
     "name": "stdout",
     "output_type": "stream",
     "text": [
      "Model: \"model\"\n",
      "__________________________________________________________________________________________________\n",
      "Layer (type)                    Output Shape         Param #     Connected to                     \n",
      "==================================================================================================\n",
      "Store_input (InputLayer)        [(None, 1)]          0                                            \n",
      "__________________________________________________________________________________________________\n",
      "DayOfWeek_input (InputLayer)    [(None, 1)]          0                                            \n",
      "__________________________________________________________________________________________________\n",
      "Store_Embed (Embedding)         (None, 1, 50)        55750       Store_input[0][0]                \n",
      "__________________________________________________________________________________________________\n",
      "DayOfWeek_Embed (Embedding)     (None, 1, 2)         14          DayOfWeek_input[0][0]            \n",
      "__________________________________________________________________________________________________\n",
      "Store_flat (Flatten)            (None, 50)           0           Store_Embed[0][0]                \n",
      "__________________________________________________________________________________________________\n",
      "DayOfWeek_flat (Flatten)        (None, 2)            0           DayOfWeek_Embed[0][0]            \n",
      "__________________________________________________________________________________________________\n",
      "BeforeStateHoliday_bool_input ( [(None, 1)]          0                                            \n",
      "__________________________________________________________________________________________________\n",
      "Max_TemperatureC_input (InputLa [(None, 1)]          0                                            \n",
      "__________________________________________________________________________________________________\n",
      "All_Concatenate (Concatenate)   (None, 54)           0           Store_flat[0][0]                 \n",
      "                                                                 DayOfWeek_flat[0][0]             \n",
      "                                                                 BeforeStateHoliday_bool_input[0][\n",
      "                                                                 Max_TemperatureC_input[0][0]     \n",
      "__________________________________________________________________________________________________\n",
      "dense (Dense)                   (None, 1000)         55000       All_Concatenate[0][0]            \n",
      "__________________________________________________________________________________________________\n",
      "activation (Activation)         (None, 1000)         0           dense[0][0]                      \n",
      "__________________________________________________________________________________________________\n",
      "dense_1 (Dense)                 (None, 500)          500500      activation[0][0]                 \n",
      "__________________________________________________________________________________________________\n",
      "activation_1 (Activation)       (None, 500)          0           dense_1[0][0]                    \n",
      "__________________________________________________________________________________________________\n",
      "Sales (Dense)                   (None, 1)            501         activation_1[0][0]               \n",
      "__________________________________________________________________________________________________\n",
      "Customers (Dense)               (None, 1)            501         activation_1[0][0]               \n",
      "==================================================================================================\n",
      "Total params: 612,266\n",
      "Trainable params: 612,266\n",
      "Non-trainable params: 0\n",
      "__________________________________________________________________________________________________\n"
     ]
    }
   ],
   "source": [
    "# Descomentar para ver\n",
    "model.summary()"
   ]
  },
  {
   "cell_type": "code",
   "execution_count": 19,
   "metadata": {},
   "outputs": [],
   "source": [
    "model.save_weights('initial_weights.hdf5')"
   ]
  },
  {
   "cell_type": "code",
   "execution_count": 20,
   "metadata": {},
   "outputs": [
    {
     "name": "stdout",
     "output_type": "stream",
     "text": [
      "Cantidad en val: 30188, porcentaje: 0.9642465458145908\n"
     ]
    }
   ],
   "source": [
    "df_train = df[df.Date < datetime.datetime(2015, 7, 1)]  \n",
    "df_val = df[df.Date >= datetime.datetime(2015, 7, 1)]\n",
    "print(f'Cantidad en val: {len(df_val)}, porcentaje: {len(df_train)/(len(df_train) + len(df_val))}')"
   ]
  },
  {
   "cell_type": "code",
   "execution_count": 21,
   "metadata": {},
   "outputs": [],
   "source": [
    "from matplotlib import pyplot as plt\n",
    "# plt.figure(figsize=(20,5))\n",
    "# plt.plot((df_train[df_train['Store']==1]['Sales'].values - df_train[df_train['Store']==1]['Sales'].mean())/df_train[df_train['Store']==1]['Sales'].std())\n",
    "# plt.show()\n",
    "# plt.figure(figsize=(20,5))\n",
    "# plt.plot(np.log(df_train[df_train['Store']==1]['Sales'].values)/np.max(np.log(df_train[df_train['Store']==1]['Sales'].values)))\n",
    "# plt.show()"
   ]
  },
  {
   "cell_type": "code",
   "execution_count": 22,
   "metadata": {},
   "outputs": [],
   "source": [
    "stores_mean = {}\n",
    "for store, g_df in df_train.groupby('Store'):\n",
    "    stores_mean[store] = g_df[g_df['Sales'] > 0]['Sales'].mean()"
   ]
  },
  {
   "cell_type": "code",
   "execution_count": 23,
   "metadata": {},
   "outputs": [
    {
     "name": "stderr",
     "output_type": "stream",
     "text": [
      "C:\\Users\\a202194\\Anaconda3\\envs\\deep2020keras\\lib\\site-packages\\pandas\\core\\indexing.py:1596: SettingWithCopyWarning: \n",
      "A value is trying to be set on a copy of a slice from a DataFrame.\n",
      "Try using .loc[row_indexer,col_indexer] = value instead\n",
      "\n",
      "See the caveats in the documentation: https://pandas.pydata.org/pandas-docs/stable/user_guide/indexing.html#returning-a-view-versus-a-copy\n",
      "  self.obj[key] = _infer_fill_value(value)\n",
      "C:\\Users\\a202194\\Anaconda3\\envs\\deep2020keras\\lib\\site-packages\\pandas\\core\\indexing.py:1743: SettingWithCopyWarning: \n",
      "A value is trying to be set on a copy of a slice from a DataFrame.\n",
      "Try using .loc[row_indexer,col_indexer] = value instead\n",
      "\n",
      "See the caveats in the documentation: https://pandas.pydata.org/pandas-docs/stable/user_guide/indexing.html#returning-a-view-versus-a-copy\n",
      "  isetter(ilocs[0], value)\n"
     ]
    }
   ],
   "source": [
    "df_train.loc[:, 'mean_by_store'] = df_train['Store'].apply(stores_mean.get)\n",
    "df_val.loc[:, 'mean_by_store'] = df_val['Store'].apply(stores_mean.get)\n",
    "\n",
    "df_train.loc[:, 'Sales_store'] = df_train['Sales'] - df_train['mean_by_store']\n",
    "df_val.loc[:, 'Sales_store'] = df_val['Sales'] - df_val['mean_by_store']"
   ]
  },
  {
   "cell_type": "code",
   "execution_count": 24,
   "metadata": {},
   "outputs": [],
   "source": [
    "from tensorflow.keras import backend as K"
   ]
  },
  {
   "cell_type": "code",
   "execution_count": 25,
   "metadata": {},
   "outputs": [],
   "source": [
    "def rmspe(y_true, y_pred):\n",
    "    return K.sqrt(K.mean(K.square((y_true - y_pred)/y_true)))"
   ]
  },
  {
   "cell_type": "code",
   "execution_count": 26,
   "metadata": {},
   "outputs": [],
   "source": [
    "def get_metric(df, sales_):\n",
    "    return np.sqrt((((df['Sales'] - sales_)/df['Sales'])**2).mean())"
   ]
  },
  {
   "cell_type": "code",
   "execution_count": 27,
   "metadata": {},
   "outputs": [
    {
     "data": {
      "text/plain": [
       "0.3071746085338871"
      ]
     },
     "execution_count": 27,
     "metadata": {},
     "output_type": "execute_result"
    }
   ],
   "source": [
    "get_metric(df_val, df_val['mean_by_store'])"
   ]
  },
  {
   "cell_type": "code",
   "execution_count": 28,
   "metadata": {},
   "outputs": [],
   "source": [
    "all_vars = cat_vars + contin_vars\n",
    "X_train = np.hsplit(df_train[all_vars].values, len(all_vars))\n",
    "X_val = np.hsplit(df_val[all_vars].values, len(all_vars))\n",
    "X_test = np.hsplit(df_test[all_vars].values, len(all_vars))"
   ]
  },
  {
   "cell_type": "code",
   "execution_count": 29,
   "metadata": {},
   "outputs": [],
   "source": [
    "if add_customers:\n",
    "    y_out_columns = ['Sales', 'Customers']\n",
    "else:\n",
    "    y_out_columns = ['Sales_store']\n",
    "    \n",
    "if log_output:\n",
    "    # Escala logaritmica\n",
    "    max_log_y = np.max(np.log(df[y_out_columns])).values\n",
    "    y_train = np.log(df_train[y_out_columns].values)/max_log_y\n",
    "    y_val = np.log(df_val[y_out_columns].values)/max_log_y\n",
    "else:\n",
    "    # Normalización\n",
    "    y_mean = df_train[y_out_columns].mean().values\n",
    "    y_std = df_train[y_out_columns].std().values\n",
    "    y_train = (df_train[y_out_columns].values - y_mean)/y_std\n",
    "    y_val = (df_val[y_out_columns].values - y_mean)/y_std\n",
    "#    y_max = df_train[y_out_columns].max().values\n",
    "#    y_train = df_train[y_out_columns].values/y_max\n",
    "#    y_val = df_val[y_out_columns].values/y_max\n",
    "\n",
    "y_train = np.hsplit(y_train, y_train.shape[1])\n",
    "y_val = np.hsplit(y_val, y_val.shape[1])"
   ]
  },
  {
   "cell_type": "code",
   "execution_count": 30,
   "metadata": {},
   "outputs": [],
   "source": [
    "lr = 0.001\n",
    "model.compile(optimizer=Adam(lr=lr), metrics=['mse', rmspe], loss='mse')"
   ]
  },
  {
   "cell_type": "code",
   "execution_count": 31,
   "metadata": {},
   "outputs": [],
   "source": [
    "if add_customers:\n",
    "    checkpoint = ModelCheckpoint('bestmodel.hdf5', monitor='val_Sales_mse', verbose=1, save_best_only=True)\n",
    "else:\n",
    "    checkpoint = ModelCheckpoint('bestmodel.hdf5', monitor='val_loss', verbose=1, save_best_only=True)"
   ]
  },
  {
   "cell_type": "code",
   "execution_count": 32,
   "metadata": {},
   "outputs": [
    {
     "name": "stdout",
     "output_type": "stream",
     "text": [
      "Train on 814150 samples, validate on 30188 samples\n",
      "Epoch 1/20\n",
      "814080/814150 [============================>.] - ETA: 0s - loss: 0.5184 - Sales_loss: 0.3302 - Customers_loss: 0.1513 - Sales_mse: 0.3302 - Sales_rmspe: 44.6110 - Customers_mse: 0.1513 - Customers_rmspe: 14.0105\n",
      "Epoch 00001: val_Sales_mse improved from inf to 0.26479, saving model to bestmodel.hdf5\n",
      "814150/814150 [==============================] - 56s 69us/sample - loss: 0.5184 - Sales_loss: 0.3302 - Customers_loss: 0.1513 - Sales_mse: 0.3302 - Sales_rmspe: 44.5987 - Customers_mse: 0.1513 - Customers_rmspe: 14.0069 - val_loss: 0.4261 - val_Sales_loss: 0.2647 - val_Customers_loss: 0.1391 - val_Sales_mse: 0.2648 - val_Sales_rmspe: 79.6693 - val_Customers_mse: 0.1392 - val_Customers_rmspe: 17.0360\n",
      "Epoch 2/20\n",
      "813312/814150 [============================>.] - ETA: 0s - loss: 0.4269 - Sales_loss: 0.2919 - Customers_loss: 0.1161 - Sales_mse: 0.2919 - Sales_rmspe: 43.3644 - Customers_mse: 0.1161 - Customers_rmspe: 13.3448  ETA: 20s - loss: 0.4295 - Sales_loss: 0.2931 - Customers_loss: 0.1168 - Sales_mse: 0.2931 - - ETA: 18s - loss: 0.4293 - Sales_loss: 0.2929 - Customers_loss: 0.1168 - Sales_mse: 0.2929 - Sales_rmspe: 42.2640 - Customers_mse: 0.116 - ETA: 17s - loss: 0.4292 - ETA: 14 - ETA: 10s \n",
      "Epoch 00002: val_Sales_mse improved from 0.26479 to 0.25534, saving model to bestmodel.hdf5\n",
      "814150/814150 [==============================] - 60s 73us/sample - loss: 0.4269 - Sales_loss: 0.2919 - Customers_loss: 0.1161 - Sales_mse: 0.2919 - Sales_rmspe: 43.3143 - Customers_mse: 0.1161 - Customers_rmspe: 13.3339 - val_loss: 0.3888 - val_Sales_loss: 0.2553 - val_Customers_loss: 0.1163 - val_Sales_mse: 0.2553 - val_Sales_rmspe: 68.6250 - val_Customers_mse: 0.1164 - val_Customers_rmspe: 15.4325\n",
      "Epoch 3/20\n",
      "814080/814150 [============================>.] - ETA: 0s - loss: 0.4121 - Sales_loss: 0.2845 - Customers_loss: 0.1111 - Sales_mse: 0.2845 - Sales_rmspe: 42.5369 - Customers_mse: 0.1111 - Customers_rmspe: 13.0574  ETA: 18s - loss: 0.4125 - Sales_loss: 0.2845 - Customer - ETA: 8s - loss: 0.4121 -\n",
      "Epoch 00003: val_Sales_mse did not improve from 0.25534\n",
      "814150/814150 [==============================] - 57s 70us/sample - loss: 0.4121 - Sales_loss: 0.2845 - Customers_loss: 0.1111 - Sales_mse: 0.2845 - Sales_rmspe: 42.5308 - Customers_mse: 0.1111 - Customers_rmspe: 13.0538 - val_loss: 0.3813 - val_Sales_loss: 0.2593 - val_Customers_loss: 0.1062 - val_Sales_mse: 0.2593 - val_Sales_rmspe: 67.3846 - val_Customers_mse: 0.1062 - val_Customers_rmspe: 13.5306\n",
      "Epoch 4/20\n",
      "813312/814150 [============================>.] - ETA: 0s - loss: 0.4020 - Sales_loss: 0.2785 - Customers_loss: 0.1075 - Sales_mse: 0.2785 - Sales_rmspe: 43.2708 - Customers_mse: 0.1075 - Customers_rmspe: 13.0620  ETA: 18s - loss: 0.4032 - Sales_loss: 0.2792 - Customers_loss: 0.1080 - Sales_mse:  - ETA: 5s - loss: 0.4021 - Sales_loss: 0.2784 - Customers_loss: 0.1077 - Sales_mse: 0.2784 - Sales_rmspe: 42.4810 - Customers_mse: 0.107 - ETA: 4s - loss: 0.4021 - Sales_loss: 0.2785 - Customers_loss: 0.1077 - Sales_mse: 0.2785 - Sales_rms\n",
      "Epoch 00004: val_Sales_mse improved from 0.25534 to 0.22946, saving model to bestmodel.hdf5\n",
      "814150/814150 [==============================] - 56s 69us/sample - loss: 0.4020 - Sales_loss: 0.2785 - Customers_loss: 0.1076 - Sales_mse: 0.2785 - Sales_rmspe: 43.2261 - Customers_mse: 0.1075 - Customers_rmspe: 13.0541 - val_loss: 0.3327 - val_Sales_loss: 0.2295 - val_Customers_loss: 0.0875 - val_Sales_mse: 0.2295 - val_Sales_rmspe: 75.6219 - val_Customers_mse: 0.0875 - val_Customers_rmspe: 13.5180\n",
      "Epoch 5/20\n",
      "813312/814150 [============================>.] - ETA: 0s - loss: 0.3951 - Sales_loss: 0.2741 - Customers_loss: 0.1053 - Sales_mse: 0.2741 - Sales_rmspe: 42.3812 - Customers_mse: 0.1053 - Customers_rmspe: 13.0940  ETA: 13s - loss: 0.3965 -  - ETA: 0s - loss: 0.3951 - Sales_loss: 0.2741 - Customers_loss: 0.1053 - Sales_mse: 0.2741 - Sales_rmspe: 42.5048 - Customers_mse: 0.1053 - Customers_rmspe: 1\n",
      "Epoch 00005: val_Sales_mse did not improve from 0.22946\n",
      "814150/814150 [==============================] - 49s 60us/sample - loss: 0.3951 - Sales_loss: 0.2741 - Customers_loss: 0.1053 - Sales_mse: 0.2741 - Sales_rmspe: 42.3436 - Customers_mse: 0.1053 - Customers_rmspe: 13.0849 - val_loss: 0.4088 - val_Sales_loss: 0.2760 - val_Customers_loss: 0.1175 - val_Sales_mse: 0.2761 - val_Sales_rmspe: 83.7352 - val_Customers_mse: 0.1175 - val_Customers_rmspe: 14.7421\n",
      "Epoch 6/20\n",
      "813824/814150 [============================>.] - ETA: 0s - loss: 0.3895 - Sales_loss: 0.2700 - Customers_loss: 0.1036 - Sales_mse: 0.2700 - Sales_rmspe: 42.8387 - Customers_mse: 0.1036 - Customers_rmspe: 12.9378- ETA: 2s - loss: 0.3895 - Sales_loss: 0.2700 - Customers_loss: 0.1035 - Sales_mse: 0.2700 - Sa\n",
      "Epoch 00006: val_Sales_mse did not improve from 0.22946\n",
      "814150/814150 [==============================] - 52s 64us/sample - loss: 0.3895 - Sales_loss: 0.2700 - Customers_loss: 0.1035 - Sales_mse: 0.2700 - Sales_rmspe: 42.8160 - Customers_mse: 0.1036 - Customers_rmspe: 12.9351 - val_loss: 0.3337 - val_Sales_loss: 0.2355 - val_Customers_loss: 0.0822 - val_Sales_mse: 0.2355 - val_Sales_rmspe: 74.5269 - val_Customers_mse: 0.0822 - val_Customers_rmspe: 13.0374\n",
      "Epoch 7/20\n",
      "813568/814150 [============================>.] - ETA: 0s - loss: 0.3821 - Sales_loss: 0.2646 - Customers_loss: 0.1011 - Sales_mse: 0.2646 - Sales_rmspe: 42.2197 - Customers_mse: 0.1011 - Customers_rmspe: 12.8471- ETA: 6s - loss: 0.3827 - Sales_loss: 0.2650 - Customers_loss: 0.1012 - Sales_mse: 0.2650 - Sales_rmspe: 41.4150 - Customers_mse: 0.1012 - Customers_rmspe: 12.9 - ETA: 6s - loss: 0.3827 - Sales_loss: 0.2650 - Customer\n",
      "Epoch 00007: val_Sales_mse did not improve from 0.22946\n",
      "814150/814150 [==============================] - 50s 61us/sample - loss: 0.3822 - Sales_loss: 0.2646 - Customers_loss: 0.1011 - Sales_mse: 0.2646 - Sales_rmspe: 42.1868 - Customers_mse: 0.1011 - Customers_rmspe: 12.8437 - val_loss: 0.3396 - val_Sales_loss: 0.2366 - val_Customers_loss: 0.0867 - val_Sales_mse: 0.2366 - val_Sales_rmspe: 76.2067 - val_Customers_mse: 0.0867 - val_Customers_rmspe: 12.9050\n",
      "Epoch 8/20\n",
      "814080/814150 [============================>.] - ETA: 0s - loss: 0.3772 - Sales_loss: 0.2607 - Customers_loss: 0.0996 - Sales_mse: 0.2607 - Sales_rmspe: 41.8675 - Customers_mse: 0.0996 - Customers_rmspe: 12.6420  \n",
      "Epoch 00008: val_Sales_mse improved from 0.22946 to 0.22675, saving model to bestmodel.hdf5\n",
      "814150/814150 [==============================] - 50s 61us/sample - loss: 0.3773 - Sales_loss: 0.2607 - Customers_loss: 0.0996 - Sales_mse: 0.2607 - Sales_rmspe: 41.8550 - Customers_mse: 0.0996 - Customers_rmspe: 12.6407 - val_loss: 0.3260 - val_Sales_loss: 0.2267 - val_Customers_loss: 0.0822 - val_Sales_mse: 0.2267 - val_Sales_rmspe: 71.7419 - val_Customers_mse: 0.0822 - val_Customers_rmspe: 12.7215\n",
      "Epoch 9/20\n",
      "813312/814150 [============================>.] - ETA: 0s - loss: 0.3728 - Sales_loss: 0.2573 - Customers_loss: 0.0982 - Sales_mse: 0.2573 - Sales_rmspe: 41.2140 - Customers_mse: 0.0982 - Customers_rmspe: 12.6930  ETA: 12s - loss: 0.3736 - Sales_loss: 0.2583 \n",
      "Epoch 00009: val_Sales_mse did not improve from 0.22675\n",
      "814150/814150 [==============================] - 48s 59us/sample - loss: 0.3728 - Sales_loss: 0.2573 - Customers_loss: 0.0982 - Sales_mse: 0.2573 - Sales_rmspe: 41.1979 - Customers_mse: 0.0982 - Customers_rmspe: 12.6964 - val_loss: 0.4081 - val_Sales_loss: 0.2701 - val_Customers_loss: 0.1203 - val_Sales_mse: 0.2701 - val_Sales_rmspe: 79.6258 - val_Customers_mse: 0.1203 - val_Customers_rmspe: 15.5970\n",
      "Epoch 10/20\n",
      "814080/814150 [============================>.] - ETA: 0s - loss: 0.3688 - Sales_loss: 0.2544 - Customers_loss: 0.0968 - Sales_mse: 0.2544 - Sales_rmspe: 43.3381 - Customers_mse: 0.0968 - Customers_rmspe: 12.8087- ETA: 4s - loss: 0.3690 - Sales_loss: 0.2543 - Customers_loss: 0.0970 - Sales_mse: 0.2543 - Sales_rmspe: 43.2703 - Customers_mse: 0.0970 - ETA: 3s - loss: 0.3690 - Sales_loss: 0.2544 - Customers_loss: 0.0969 - Sales_mse: 0.2544 - Sales_rmsp\n",
      "Epoch 00010: val_Sales_mse did not improve from 0.22675\n",
      "814150/814150 [==============================] - 58s 72us/sample - loss: 0.3688 - Sales_loss: 0.2543 - Customers_loss: 0.0968 - Sales_mse: 0.2544 - Sales_rmspe: 43.3712 - Customers_mse: 0.0968 - Customers_rmspe: 12.8054 - val_loss: 0.3323 - val_Sales_loss: 0.2284 - val_Customers_loss: 0.0866 - val_Sales_mse: 0.2284 - val_Sales_rmspe: 72.2444 - val_Customers_mse: 0.0866 - val_Customers_rmspe: 13.8487\n",
      "Epoch 11/20\n",
      "813312/814150 [============================>.] - ETA: 0s - loss: 0.3650 - Sales_loss: 0.2518 - Customers_loss: 0.0954 - Sales_mse: 0.2518 - Sales_rmspe: 40.3543 - Customers_mse: 0.0954 - Customers_rmspe: 12.5747- ETA: 6s - loss: 0.3659 - Sales_loss: 0.2523 - Customers_loss: 0.0957 - Sales_mse: 0.2523 - - ETA: 2s - loss: 0.3654 - Sales_loss: 0.2521 - Customers_loss: 0.0955 - Sales_mse: 0.2521 - Sales_rmspe: 40.3332 - Customer - ETA: 0s - loss: 0.3650 - Sales_loss: 0.2518 - Customers_loss: 0.0954 - Sales_mse: 0.2518 - Sales_rmspe: 40.4168 - Customers_mse: 0.0954 - Customers_rmspe: 12.56\n",
      "Epoch 00011: val_Sales_mse did not improve from 0.22675\n",
      "814150/814150 [==============================] - 51s 63us/sample - loss: 0.3650 - Sales_loss: 0.2518 - Customers_loss: 0.0954 - Sales_mse: 0.2518 - Sales_rmspe: 40.3102 - Customers_mse: 0.0954 - Customers_rmspe: 12.5629 - val_loss: 0.3822 - val_Sales_loss: 0.2697 - val_Customers_loss: 0.0946 - val_Sales_mse: 0.2697 - val_Sales_rmspe: 80.9085 - val_Customers_mse: 0.0946 - val_Customers_rmspe: 15.1950\n",
      "Epoch 12/20\n",
      "813824/814150 [============================>.] - ETA: 0s - loss: 0.3625 - Sales_loss: 0.2498 - Customers_loss: 0.0947 - Sales_mse: 0.2498 - Sales_rmspe: 41.3564 - Customers_mse: 0.0947 - Customers_rmspe: 12.3492- ETA: 8s - loss: 0.3624 - Sales_loss: 0.2500 - Customers_loss: 0.0944 - Sales_mse: 0.2500 - Sales_rmspe: 42.1066 - Customers_mse: 0.0944 - Customers_rmspe: - ETA: 8s - loss: 0.3622 - Sales_loss: 0.2498 - Customers_loss: 0.0943 - Sales_mse: 0.2498 - Sales_rmspe: 41.7856 - Customers_mse: 0.0943 - Customers_rmspe: 12. - ETA: 7s - loss: 0.3624 - Sal\n",
      "Epoch 00012: val_Sales_mse did not improve from 0.22675\n",
      "814150/814150 [==============================] - 50s 62us/sample - loss: 0.3625 - Sales_loss: 0.2498 - Customers_loss: 0.0947 - Sales_mse: 0.2498 - Sales_rmspe: 41.3357 - Customers_mse: 0.0947 - Customers_rmspe: 12.3447 - val_loss: 0.3650 - val_Sales_loss: 0.2535 - val_Customers_loss: 0.0934 - val_Sales_mse: 0.2535 - val_Sales_rmspe: 69.1520 - val_Customers_mse: 0.0934 - val_Customers_rmspe: 13.1655\n",
      "Epoch 13/20\n",
      "813568/814150 [============================>.] - ETA: 0s - loss: 0.3598 - Sales_loss: 0.2478 - Customers_loss: 0.0938 - Sales_mse: 0.2478 - Sales_rmspe: 40.5417 - Customers_mse: 0.0938 - Customers_rmspe: 12.4165\n",
      "Epoch 00013: val_Sales_mse did not improve from 0.22675\n",
      "814150/814150 [==============================] - 49s 60us/sample - loss: 0.3598 - Sales_loss: 0.2478 - Customers_loss: 0.0938 - Sales_mse: 0.2478 - Sales_rmspe: 40.5071 - Customers_mse: 0.0938 - Customers_rmspe: 12.4166 - val_loss: 0.4772 - val_Sales_loss: 0.3218 - val_Customers_loss: 0.1368 - val_Sales_mse: 0.3219 - val_Sales_rmspe: 88.6920 - val_Customers_mse: 0.1369 - val_Customers_rmspe: 16.2986\n",
      "Epoch 14/20\n",
      "814080/814150 [============================>.] - ETA: 0s - loss: 0.3568 - Sales_loss: 0.2453 - Customers_loss: 0.0928 - Sales_mse: 0.2453 - Sales_rmspe: 40.7371 - Customers_mse: 0.0928 - Customers_rmspe: 12.4085  ETA: 20s - loss: 0.3566 - Sales_loss: 0.244 - - ETA: 10s - loss: 0.3560 - Sales_loss: 0.2446 - Customers_loss: 0.0926 - Sales_mse: 0.2446 - Sales_rmspe: 38.4627 - Customers_mse - ETA\n",
      "Epoch 00014: val_Sales_mse did not improve from 0.22675\n",
      "814150/814150 [==============================] - 54s 66us/sample - loss: 0.3568 - Sales_loss: 0.2453 - Customers_loss: 0.0928 - Sales_mse: 0.2453 - Sales_rmspe: 40.7250 - Customers_mse: 0.0928 - Customers_rmspe: 12.4051 - val_loss: 0.3938 - val_Sales_loss: 0.2708 - val_Customers_loss: 0.1042 - val_Sales_mse: 0.2709 - val_Sales_rmspe: 70.3107 - val_Customers_mse: 0.1042 - val_Customers_rmspe: 13.4281\n",
      "Epoch 15/20\n",
      "813824/814150 [============================>.] - ETA: 0s - loss: 0.3547 - Sales_loss: 0.2435 - Customers_loss: 0.0920 - Sales_mse: 0.2435 - Sales_rmspe: 40.3268 - Customers_mse: 0.0920 - Customers_rmspe: 12.3342\n",
      "Epoch 00015: val_Sales_mse did not improve from 0.22675\n",
      "814150/814150 [==============================] - 51s 63us/sample - loss: 0.3547 - Sales_loss: 0.2436 - Customers_loss: 0.0920 - Sales_mse: 0.2435 - Sales_rmspe: 40.3060 - Customers_mse: 0.0920 - Customers_rmspe: 12.3324 - val_loss: 0.3846 - val_Sales_loss: 0.2657 - val_Customers_loss: 0.0997 - val_Sales_mse: 0.2657 - val_Sales_rmspe: 79.2593 - val_Customers_mse: 0.0997 - val_Customers_rmspe: 14.3208\n",
      "Epoch 16/20\n",
      "814080/814150 [============================>.] - ETA: 0s - loss: 0.3527 - Sales_loss: 0.2416 - Customers_loss: 0.0914 - Sales_mse: 0.2416 - Sales_rmspe: 41.0042 - Customers_mse: 0.0914 - Customers_rmspe: 12.3623\n",
      "Epoch 00016: val_Sales_mse did not improve from 0.22675\n",
      "814150/814150 [==============================] - 51s 63us/sample - loss: 0.3527 - Sales_loss: 0.2416 - Customers_loss: 0.0914 - Sales_mse: 0.2416 - Sales_rmspe: 40.9949 - Customers_mse: 0.0914 - Customers_rmspe: 12.3595 - val_loss: 0.4157 - val_Sales_loss: 0.2988 - val_Customers_loss: 0.0972 - val_Sales_mse: 0.2989 - val_Sales_rmspe: 84.3998 - val_Customers_mse: 0.0972 - val_Customers_rmspe: 14.1535\n",
      "Epoch 17/20\n",
      "813312/814150 [============================>.] - ETA: 0s - loss: 0.3506 - Sales_loss: 0.2396 - Customers_loss: 0.0909 - Sales_mse: 0.2396 - Sales_rmspe: 41.3195 - Customers_mse: 0.0909 - Customers_rmspe: 12.1990\n",
      "Epoch 00017: val_Sales_mse did not improve from 0.22675\n",
      "814150/814150 [==============================] - 52s 64us/sample - loss: 0.3506 - Sales_loss: 0.2397 - Customers_loss: 0.0909 - Sales_mse: 0.2397 - Sales_rmspe: 41.2880 - Customers_mse: 0.0909 - Customers_rmspe: 12.1938 - val_loss: 0.3858 - val_Sales_loss: 0.2643 - val_Customers_loss: 0.1012 - val_Sales_mse: 0.2644 - val_Sales_rmspe: 77.0313 - val_Customers_mse: 0.1012 - val_Customers_rmspe: 14.4562\n",
      "Epoch 18/20\n",
      "813568/814150 [============================>.] - ETA: 0s - loss: 0.3481 - Sales_loss: 0.2376 - Customers_loss: 0.0900 - Sales_mse: 0.2376 - Sales_rmspe: 40.5258 - Customers_mse: 0.0900 - Customers_rmspe: 12.0619\n",
      "Epoch 00018: val_Sales_mse did not improve from 0.22675\n",
      "814150/814150 [==============================] - 50s 62us/sample - loss: 0.3481 - Sales_loss: 0.2377 - Customers_loss: 0.0900 - Sales_mse: 0.2376 - Sales_rmspe: 40.4919 - Customers_mse: 0.0900 - Customers_rmspe: 12.0676 - val_loss: 0.5767 - val_Sales_loss: 0.4043 - val_Customers_loss: 0.1517 - val_Sales_mse: 0.4044 - val_Sales_rmspe: 110.0748 - val_Customers_mse: 0.1517 - val_Customers_rmspe: 17.6333\n",
      "Epoch 19/20\n",
      "814080/814150 [============================>.] - ETA: 0s - loss: 0.3467 - Sales_loss: 0.2361 - Customers_loss: 0.0897 - Sales_mse: 0.2361 - Sales_rmspe: 39.2920 - Customers_mse: 0.0897 - Customers_rmspe: 12.1748- ETA: 7s - loss: 0.3464 - Sales_loss: 0.2362 - Customers_loss: 0.0894 - Sales_mse: 0.2362 - Sales_rmspe: 39.4068 - Cust - ETA: 4s - loss: 0.3464 - Sales_loss: 0.2361 - Customers_loss: 0.0894 - Sales_mse: 0.2361 - Sales_rm - ETA: 0s - loss: 0.3467 - Sales_loss: 0.2361 - Customers_loss: 0.0897 - Sales_mse: 0.2361 - Sales_rmspe: 39.0386 - Customers_mse: 0.0897 - Customers_rmspe:\n",
      "Epoch 00019: val_Sales_mse did not improve from 0.22675\n",
      "814150/814150 [==============================] - 52s 64us/sample - loss: 0.3467 - Sales_loss: 0.2361 - Customers_loss: 0.0897 - Sales_mse: 0.2361 - Sales_rmspe: 39.2800 - Customers_mse: 0.0897 - Customers_rmspe: 12.1814 - val_loss: 0.4441 - val_Sales_loss: 0.3187 - val_Customers_loss: 0.1044 - val_Sales_mse: 0.3188 - val_Sales_rmspe: 91.2114 - val_Customers_mse: 0.1044 - val_Customers_rmspe: 13.7961\n",
      "Epoch 20/20\n",
      "814080/814150 [============================>.] - ETA: 0s - loss: 0.3446 - Sales_loss: 0.2343 - Customers_loss: 0.0891 - Sales_mse: 0.2343 - Sales_rmspe: 40.0312 - Customers_mse: 0.0891 - Customers_rmspe: 12.0215\n",
      "Epoch 00020: val_Sales_mse did not improve from 0.22675\n",
      "814150/814150 [==============================] - 49s 60us/sample - loss: 0.3446 - Sales_loss: 0.2343 - Customers_loss: 0.0891 - Sales_mse: 0.2343 - Sales_rmspe: 40.0244 - Customers_mse: 0.0891 - Customers_rmspe: 12.0182 - val_loss: 0.3870 - val_Sales_loss: 0.2749 - val_Customers_loss: 0.0909 - val_Sales_mse: 0.2749 - val_Sales_rmspe: 95.1800 - val_Customers_mse: 0.0909 - val_Customers_rmspe: 14.3872\n"
     ]
    }
   ],
   "source": [
    "epochs = 20\n",
    "batch_size = 256\n",
    "history = model.fit(X_train, y_train, validation_data=(X_val, y_val),  epochs=epochs, batch_size=batch_size, callbacks=[checkpoint], verbose=1)"
   ]
  },
  {
   "cell_type": "code",
   "execution_count": 33,
   "metadata": {},
   "outputs": [
    {
     "data": {
      "image/png": "[encoded data removed]",
      "text/plain": [
       "<Figure size 432x288 with 1 Axes>"
      ]
     },
     "metadata": {
      "needs_background": "light"
     },
     "output_type": "display_data"
    },
    {
     "data": {
      "text/plain": [
       "[<matplotlib.lines.Line2D at 0x210ad7f02b0>]"
      ]
     },
     "execution_count": 33,
     "metadata": {},
     "output_type": "execute_result"
    },
    {
     "data": {
      "image/png": "[encoded data removed]",
      "text/plain": [
       "<Figure size 432x288 with 1 Axes>"
      ]
     },
     "metadata": {
      "needs_background": "light"
     },
     "output_type": "display_data"
    }
   ],
   "source": [
    "plt.plot(history.history['val_loss'])\n",
    "# plt.plot(history.history['val_Customers_mse'])\n",
    "# plt.plot(history.history['val_Sales_mse'])\n",
    "plt.show()\n",
    "plt.plot(history.history['loss'])\n",
    "# plt.plot(history.history['Customers_mse'])\n",
    "# plt.plot(history.history['Sales_mse'])"
   ]
  },
  {
   "cell_type": "markdown",
   "metadata": {},
   "source": [
    "# Métrica"
   ]
  },
  {
   "cell_type": "markdown",
   "metadata": {},
   "source": [
    "$$\n",
    "\\textrm{RMSE} = \\sqrt{\\frac{1}{n} \\sum_{i=1}^{n} \\left(\\frac{\\hat{y}_i - y_i}{y_i}\\right)^2}\n",
    "$$"
   ]
  },
  {
   "cell_type": "code",
   "execution_count": 34,
   "metadata": {},
   "outputs": [
    {
     "name": "stdout",
     "output_type": "stream",
     "text": [
      "30188/30188 [==============================] - 3s 94us/sample - loss: 0.3870 - Sales_loss: 0.2750 - Customers_loss: 0.0909 - Sales_mse: 0.2749 - Sales_rmspe: 38.6175 - Customers_mse: 0.0909 - Customers_rmspe: 7.6870\n"
     ]
    },
    {
     "data": {
      "text/plain": [
       "[0.3870043271430142,\n",
       " 0.2749538,\n",
       " 0.09091181,\n",
       " 0.2749376,\n",
       " 38.61747,\n",
       " 0.09090775,\n",
       " 7.6870317]"
      ]
     },
     "execution_count": 34,
     "metadata": {},
     "output_type": "execute_result"
    }
   ],
   "source": [
    "model.evaluate(X_val, y_val)"
   ]
  },
  {
   "cell_type": "code",
   "execution_count": 35,
   "metadata": {},
   "outputs": [
    {
     "name": "stdout",
     "output_type": "stream",
     "text": [
      "30188/30188 [==============================] - 3s 90us/sample - loss: 0.3260 - Sales_loss: 0.2269 - Customers_loss: 0.0823 - Sales_mse: 0.2267 - Sales_rmspe: 29.4148 - Customers_mse: 0.0822 - Customers_rmspe: 6.8171\n"
     ]
    },
    {
     "data": {
      "text/plain": [
       "[0.32602826650132877,\n",
       " 0.2269007,\n",
       " 0.08226745,\n",
       " 0.22674502,\n",
       " 29.414795,\n",
       " 0.08221591,\n",
       " 6.817124]"
      ]
     },
     "execution_count": 35,
     "metadata": {},
     "output_type": "execute_result"
    }
   ],
   "source": [
    "model.load_weights('bestmodel.hdf5')\n",
    "model.evaluate(X_val, y_val)"
   ]
  },
  {
   "cell_type": "code",
   "execution_count": 36,
   "metadata": {},
   "outputs": [],
   "source": [
    "# model.load_weights('bestmodel.hdf5')\n",
    "# model.evaluate(X_val, y_val)\n",
    "# 30188/30188 [==============================] - 5s 172us/step\n",
    "# [0.12197033089921382,\n",
    "#  0.07211007360268763,\n",
    "#  0.037183713050426136,\n",
    "#  0.07211007360268763,\n",
    "#  0.037183713050426136]\n",
    "\n",
    "# [0.12932546436786652,\n",
    "#  0.07751645147800446,\n",
    "#  0.039259567856788635,\n",
    "#  0.07751645147800446,\n",
    "#  0.039259567856788635]"
   ]
  },
  {
   "cell_type": "code",
   "execution_count": 37,
   "metadata": {},
   "outputs": [
    {
     "name": "stdout",
     "output_type": "stream",
     "text": [
      "30188/30188 [==============================] - 2s 62us/sample\n",
      "41088/41088 [==============================] - 3s 64us/sample\n"
     ]
    }
   ],
   "source": [
    "if log_output:\n",
    "    if add_customers:\n",
    "        y_pred = np.exp(model.predict(X_val, verbose=1)[0][:, 0]*max_log_y[0])\n",
    "        y_pred_test = np.exp(model.predict(X_test, verbose=1)[0][:, 0]*max_log_y[0])\n",
    "    else:\n",
    "        y_pred = np.exp(model.predict(X_val, verbose=1)*max_log_y)[:,0]\n",
    "        y_pred_test = np.exp(model.predict(X_test, verbose=1)*max_log_y)[:,0]\n",
    "else:\n",
    "    if add_customers:\n",
    "        y_pred = (model.predict(X_val, verbose=1)[0]*y_std[0] + y_mean[0])[:,0]\n",
    "        y_pred_test = (model.predict(X_test, verbose=1)[0]*y_std[0] + y_mean[0])[:,0]\n",
    "    else:\n",
    "#         y_pred = model.predict(X_val, verbose=1)[:,0]*y_std + y_mean\n",
    "#         y_pred_test = model.predict(X_test, verbose=1)[:,0]*y_std + y_mean\n",
    "        y_pred = model.predict(X_val, verbose=1)[:,0]*y_max\n",
    "        y_pred_test = model.predict(X_test, verbose=1)[:,0]*y_max\n",
    "y_pred_test[df_test['Open'] == 0] = 0"
   ]
  },
  {
   "cell_type": "code",
   "execution_count": 38,
   "metadata": {},
   "outputs": [
    {
     "data": {
      "text/plain": [
       "0.23283354557713337"
      ]
     },
     "execution_count": 38,
     "metadata": {},
     "output_type": "execute_result"
    }
   ],
   "source": [
    "np.sqrt((((df_val['Sales'].values - y_pred)/df_val['Sales'].values)**2).sum()/len(y_pred))"
   ]
  },
  {
   "cell_type": "code",
   "execution_count": 39,
   "metadata": {},
   "outputs": [
    {
     "data": {
      "text/plain": [
       "array([5357.525 , 7723.975 , 9116.177 , 6779.392 , 7756.461 , 6287.9507,\n",
       "       8721.113 , 8078.208 , 4858.83  , 6802.212 ], dtype=float32)"
      ]
     },
     "execution_count": 39,
     "metadata": {},
     "output_type": "execute_result"
    }
   ],
   "source": [
    "y_pred_test[:10]"
   ]
  },
  {
   "cell_type": "markdown",
   "metadata": {},
   "source": [
    "# Baseline"
   ]
  },
  {
   "cell_type": "code",
   "execution_count": 40,
   "metadata": {},
   "outputs": [],
   "source": [
    "import pandas as pd\n",
    "sample_csv = pd.read_csv('dataset/rossmann/sample_submission.csv')"
   ]
  },
  {
   "cell_type": "code",
   "execution_count": 41,
   "metadata": {},
   "outputs": [],
   "source": [
    "stores_mean = {}\n",
    "for store, g_df in df.groupby('Store'):\n",
    "    stores_mean[store] = g_df[g_df['Sales'] > 0]['Sales'].mean()"
   ]
  },
  {
   "cell_type": "code",
   "execution_count": 42,
   "metadata": {},
   "outputs": [],
   "source": [
    "df_test['Sales'] = df_test['Store'].apply(stores_mean.get)\n",
    "df_test.loc[df_test['Open'] == 0, 'Sales'] = 0"
   ]
  },
  {
   "cell_type": "code",
   "execution_count": 43,
   "metadata": {},
   "outputs": [
    {
     "data": {
      "text/html": [
       "<div>\n",
       "<style scoped>\n",
       "    .dataframe tbody tr th:only-of-type {\n",
       "        vertical-align: middle;\n",
       "    }\n",
       "\n",
       "    .dataframe tbody tr th {\n",
       "        vertical-align: top;\n",
       "    }\n",
       "\n",
       "    .dataframe thead th {\n",
       "        text-align: right;\n",
       "    }\n",
       "</style>\n",
       "<table border=\"1\" class=\"dataframe\">\n",
       "  <thead>\n",
       "    <tr style=\"text-align: right;\">\n",
       "      <th></th>\n",
       "      <th>Store</th>\n",
       "      <th>Sales</th>\n",
       "    </tr>\n",
       "  </thead>\n",
       "  <tbody>\n",
       "    <tr>\n",
       "      <th>0</th>\n",
       "      <td>0</td>\n",
       "      <td>4759.096031</td>\n",
       "    </tr>\n",
       "    <tr>\n",
       "      <th>1</th>\n",
       "      <td>2</td>\n",
       "      <td>6942.568678</td>\n",
       "    </tr>\n",
       "    <tr>\n",
       "      <th>2</th>\n",
       "      <td>6</td>\n",
       "      <td>8817.050891</td>\n",
       "    </tr>\n",
       "    <tr>\n",
       "      <th>3</th>\n",
       "      <td>7</td>\n",
       "      <td>5539.358418</td>\n",
       "    </tr>\n",
       "    <tr>\n",
       "      <th>4</th>\n",
       "      <td>8</td>\n",
       "      <td>6562.337612</td>\n",
       "    </tr>\n",
       "    <tr>\n",
       "      <th>5</th>\n",
       "      <td>9</td>\n",
       "      <td>5568.420918</td>\n",
       "    </tr>\n",
       "    <tr>\n",
       "      <th>6</th>\n",
       "      <td>10</td>\n",
       "      <td>8030.977041</td>\n",
       "    </tr>\n",
       "    <tr>\n",
       "      <th>7</th>\n",
       "      <td>11</td>\n",
       "      <td>7589.598214</td>\n",
       "    </tr>\n",
       "    <tr>\n",
       "      <th>8</th>\n",
       "      <td>12</td>\n",
       "      <td>5034.747182</td>\n",
       "    </tr>\n",
       "    <tr>\n",
       "      <th>9</th>\n",
       "      <td>13</td>\n",
       "      <td>5508.567394</td>\n",
       "    </tr>\n",
       "  </tbody>\n",
       "</table>\n",
       "</div>"
      ],
      "text/plain": [
       "   Store        Sales\n",
       "0      0  4759.096031\n",
       "1      2  6942.568678\n",
       "2      6  8817.050891\n",
       "3      7  5539.358418\n",
       "4      8  6562.337612\n",
       "5      9  5568.420918\n",
       "6     10  8030.977041\n",
       "7     11  7589.598214\n",
       "8     12  5034.747182\n",
       "9     13  5508.567394"
      ]
     },
     "execution_count": 43,
     "metadata": {},
     "output_type": "execute_result"
    }
   ],
   "source": [
    "df_test[['Store', 'Sales']].head(10)"
   ]
  },
  {
   "cell_type": "code",
   "execution_count": 44,
   "metadata": {},
   "outputs": [
    {
     "data": {
      "text/html": [
       "<div>\n",
       "<style scoped>\n",
       "    .dataframe tbody tr th:only-of-type {\n",
       "        vertical-align: middle;\n",
       "    }\n",
       "\n",
       "    .dataframe tbody tr th {\n",
       "        vertical-align: top;\n",
       "    }\n",
       "\n",
       "    .dataframe thead th {\n",
       "        text-align: right;\n",
       "    }\n",
       "</style>\n",
       "<table border=\"1\" class=\"dataframe\">\n",
       "  <thead>\n",
       "    <tr style=\"text-align: right;\">\n",
       "      <th></th>\n",
       "      <th>Store</th>\n",
       "      <th>Sales</th>\n",
       "    </tr>\n",
       "  </thead>\n",
       "  <tbody>\n",
       "    <tr>\n",
       "      <th>543</th>\n",
       "      <td>702</td>\n",
       "      <td>0.0</td>\n",
       "    </tr>\n",
       "    <tr>\n",
       "      <th>676</th>\n",
       "      <td>878</td>\n",
       "      <td>0.0</td>\n",
       "    </tr>\n",
       "    <tr>\n",
       "      <th>840</th>\n",
       "      <td>1096</td>\n",
       "      <td>0.0</td>\n",
       "    </tr>\n",
       "    <tr>\n",
       "      <th>1399</th>\n",
       "      <td>702</td>\n",
       "      <td>0.0</td>\n",
       "    </tr>\n",
       "    <tr>\n",
       "      <th>1532</th>\n",
       "      <td>878</td>\n",
       "      <td>0.0</td>\n",
       "    </tr>\n",
       "  </tbody>\n",
       "</table>\n",
       "</div>"
      ],
      "text/plain": [
       "      Store  Sales\n",
       "543     702    0.0\n",
       "676     878    0.0\n",
       "840    1096    0.0\n",
       "1399    702    0.0\n",
       "1532    878    0.0"
      ]
     },
     "execution_count": 44,
     "metadata": {},
     "output_type": "execute_result"
    }
   ],
   "source": [
    "df_test[df_test['Open'] == 0][['Store', 'Sales']].head()"
   ]
  },
  {
   "cell_type": "code",
   "execution_count": 45,
   "metadata": {},
   "outputs": [],
   "source": [
    "sample_csv['Sales'] = df_test['Sales']"
   ]
  },
  {
   "cell_type": "code",
   "execution_count": 46,
   "metadata": {},
   "outputs": [],
   "source": [
    "sample_csv.to_csv(f'submision_baseline.csv', index=False)"
   ]
  },
  {
   "cell_type": "code",
   "execution_count": 47,
   "metadata": {},
   "outputs": [
    {
     "data": {
      "text/html": [
       "<div>\n",
       "<style scoped>\n",
       "    .dataframe tbody tr th:only-of-type {\n",
       "        vertical-align: middle;\n",
       "    }\n",
       "\n",
       "    .dataframe tbody tr th {\n",
       "        vertical-align: top;\n",
       "    }\n",
       "\n",
       "    .dataframe thead th {\n",
       "        text-align: right;\n",
       "    }\n",
       "</style>\n",
       "<table border=\"1\" class=\"dataframe\">\n",
       "  <thead>\n",
       "    <tr style=\"text-align: right;\">\n",
       "      <th></th>\n",
       "      <th>Id</th>\n",
       "      <th>Sales</th>\n",
       "    </tr>\n",
       "  </thead>\n",
       "  <tbody>\n",
       "    <tr>\n",
       "      <th>0</th>\n",
       "      <td>1</td>\n",
       "      <td>4759.096031</td>\n",
       "    </tr>\n",
       "    <tr>\n",
       "      <th>1</th>\n",
       "      <td>2</td>\n",
       "      <td>6942.568678</td>\n",
       "    </tr>\n",
       "    <tr>\n",
       "      <th>2</th>\n",
       "      <td>3</td>\n",
       "      <td>8817.050891</td>\n",
       "    </tr>\n",
       "    <tr>\n",
       "      <th>3</th>\n",
       "      <td>4</td>\n",
       "      <td>5539.358418</td>\n",
       "    </tr>\n",
       "    <tr>\n",
       "      <th>4</th>\n",
       "      <td>5</td>\n",
       "      <td>6562.337612</td>\n",
       "    </tr>\n",
       "  </tbody>\n",
       "</table>\n",
       "</div>"
      ],
      "text/plain": [
       "   Id        Sales\n",
       "0   1  4759.096031\n",
       "1   2  6942.568678\n",
       "2   3  8817.050891\n",
       "3   4  5539.358418\n",
       "4   5  6562.337612"
      ]
     },
     "execution_count": 47,
     "metadata": {},
     "output_type": "execute_result"
    }
   ],
   "source": [
    "sample_csv.head()"
   ]
  },
  {
   "cell_type": "markdown",
   "metadata": {},
   "source": [
    "# Sumbit a la competición"
   ]
  },
  {
   "cell_type": "code",
   "execution_count": 48,
   "metadata": {},
   "outputs": [],
   "source": [
    "\n",
    "sample_csv = pd.read_csv('dataset/rossmann/sample_submission.csv')\n",
    "sample_csv['Sales'] = y_pred_test\n",
    "sample_csv.head()\n",
    "\n",
    "sample_csv.to_csv(f'submision_{add_customers}-{log_output}-{output_activation}-{l2_lambda}-{first_hidden_units}-{epochs}-{batch_size}-{lr}.csv', index=False)\n"
   ]
  },
  {
   "cell_type": "markdown",
   "metadata": {},
   "source": [
    "# Analisis de embedings"
   ]
  },
  {
   "cell_type": "code",
   "execution_count": 49,
   "metadata": {},
   "outputs": [],
   "source": [
    "def plot_embed(layer_name, cat_names):\n",
    "    Y = model.get_layer(layer_name).get_weights()[0]\n",
    "    print(Y.shape)\n",
    "    plt.figure(figsize=(8,8))\n",
    "    plt.scatter(-Y[:, 0], -Y[:, 1])\n",
    "    for i, txt in enumerate(cat_names):\n",
    "        plt.annotate(txt, (-Y[i, 0],-Y[i, 1]), xytext = (-5, 8), textcoords = 'offset points')"
   ]
  },
  {
   "cell_type": "code",
   "execution_count": 50,
   "metadata": {},
   "outputs": [
    {
     "name": "stdout",
     "output_type": "stream",
     "text": [
      "(7, 2)\n"
     ]
    },
    {
     "data": {
      "image/png": "[encoded data removed]",
      "text/plain": [
       "<Figure size 576x576 with 1 Axes>"
      ]
     },
     "metadata": {
      "needs_background": "light"
     },
     "output_type": "display_data"
    }
   ],
   "source": [
    "model.load_weights('bestmodel.hdf5')\n",
    "plot_embed('DayOfWeek_Embed', ['Mon', 'Tue', 'Wed', 'Thu', 'Fri', 'Sat','Sun'])"
   ]
  },
  {
   "cell_type": "code",
   "execution_count": 51,
   "metadata": {},
   "outputs": [
    {
     "ename": "ValueError",
     "evalue": "No such layer: Month_Embed",
     "output_type": "error",
     "traceback": [
      "\u001b[1;31m---------------------------------------------------------------------------\u001b[0m",
      "\u001b[1;31mValueError\u001b[0m                                Traceback (most recent call last)",
      "\u001b[1;32m<ipython-input-51-c3dc3ee5fed0>\u001b[0m in \u001b[0;36m<module>\u001b[1;34m\u001b[0m\n\u001b[1;32m----> 1\u001b[1;33m \u001b[0mplot_embed\u001b[0m\u001b[1;33m(\u001b[0m\u001b[1;34m'Month_Embed'\u001b[0m\u001b[1;33m,\u001b[0m \u001b[0mlist\u001b[0m\u001b[1;33m(\u001b[0m\u001b[0mrange\u001b[0m\u001b[1;33m(\u001b[0m\u001b[1;36m12\u001b[0m\u001b[1;33m)\u001b[0m\u001b[1;33m)\u001b[0m\u001b[1;33m)\u001b[0m\u001b[1;33m\u001b[0m\u001b[1;33m\u001b[0m\u001b[0m\n\u001b[0m",
      "\u001b[1;32m<ipython-input-49-52ee9a3c03b6>\u001b[0m in \u001b[0;36mplot_embed\u001b[1;34m(layer_name, cat_names)\u001b[0m\n\u001b[0;32m      1\u001b[0m \u001b[1;32mdef\u001b[0m \u001b[0mplot_embed\u001b[0m\u001b[1;33m(\u001b[0m\u001b[0mlayer_name\u001b[0m\u001b[1;33m,\u001b[0m \u001b[0mcat_names\u001b[0m\u001b[1;33m)\u001b[0m\u001b[1;33m:\u001b[0m\u001b[1;33m\u001b[0m\u001b[1;33m\u001b[0m\u001b[0m\n\u001b[1;32m----> 2\u001b[1;33m     \u001b[0mY\u001b[0m \u001b[1;33m=\u001b[0m \u001b[0mmodel\u001b[0m\u001b[1;33m.\u001b[0m\u001b[0mget_layer\u001b[0m\u001b[1;33m(\u001b[0m\u001b[0mlayer_name\u001b[0m\u001b[1;33m)\u001b[0m\u001b[1;33m.\u001b[0m\u001b[0mget_weights\u001b[0m\u001b[1;33m(\u001b[0m\u001b[1;33m)\u001b[0m\u001b[1;33m[\u001b[0m\u001b[1;36m0\u001b[0m\u001b[1;33m]\u001b[0m\u001b[1;33m\u001b[0m\u001b[1;33m\u001b[0m\u001b[0m\n\u001b[0m\u001b[0;32m      3\u001b[0m     \u001b[0mprint\u001b[0m\u001b[1;33m(\u001b[0m\u001b[0mY\u001b[0m\u001b[1;33m.\u001b[0m\u001b[0mshape\u001b[0m\u001b[1;33m)\u001b[0m\u001b[1;33m\u001b[0m\u001b[1;33m\u001b[0m\u001b[0m\n\u001b[0;32m      4\u001b[0m     \u001b[0mplt\u001b[0m\u001b[1;33m.\u001b[0m\u001b[0mfigure\u001b[0m\u001b[1;33m(\u001b[0m\u001b[0mfigsize\u001b[0m\u001b[1;33m=\u001b[0m\u001b[1;33m(\u001b[0m\u001b[1;36m8\u001b[0m\u001b[1;33m,\u001b[0m\u001b[1;36m8\u001b[0m\u001b[1;33m)\u001b[0m\u001b[1;33m)\u001b[0m\u001b[1;33m\u001b[0m\u001b[1;33m\u001b[0m\u001b[0m\n\u001b[0;32m      5\u001b[0m     \u001b[0mplt\u001b[0m\u001b[1;33m.\u001b[0m\u001b[0mscatter\u001b[0m\u001b[1;33m(\u001b[0m\u001b[1;33m-\u001b[0m\u001b[0mY\u001b[0m\u001b[1;33m[\u001b[0m\u001b[1;33m:\u001b[0m\u001b[1;33m,\u001b[0m \u001b[1;36m0\u001b[0m\u001b[1;33m]\u001b[0m\u001b[1;33m,\u001b[0m \u001b[1;33m-\u001b[0m\u001b[0mY\u001b[0m\u001b[1;33m[\u001b[0m\u001b[1;33m:\u001b[0m\u001b[1;33m,\u001b[0m \u001b[1;36m1\u001b[0m\u001b[1;33m]\u001b[0m\u001b[1;33m)\u001b[0m\u001b[1;33m\u001b[0m\u001b[1;33m\u001b[0m\u001b[0m\n",
      "\u001b[1;32m~\\Anaconda3\\envs\\deep2020keras\\lib\\site-packages\\tensorflow_core\\python\\keras\\engine\\network.py\u001b[0m in \u001b[0;36mget_layer\u001b[1;34m(self, name, index)\u001b[0m\n\u001b[0;32m    546\u001b[0m       \u001b[1;32mif\u001b[0m \u001b[0mlayer\u001b[0m\u001b[1;33m.\u001b[0m\u001b[0mname\u001b[0m \u001b[1;33m==\u001b[0m \u001b[0mname\u001b[0m\u001b[1;33m:\u001b[0m\u001b[1;33m\u001b[0m\u001b[1;33m\u001b[0m\u001b[0m\n\u001b[0;32m    547\u001b[0m         \u001b[1;32mreturn\u001b[0m \u001b[0mlayer\u001b[0m\u001b[1;33m\u001b[0m\u001b[1;33m\u001b[0m\u001b[0m\n\u001b[1;32m--> 548\u001b[1;33m     \u001b[1;32mraise\u001b[0m \u001b[0mValueError\u001b[0m\u001b[1;33m(\u001b[0m\u001b[1;34m'No such layer: '\u001b[0m \u001b[1;33m+\u001b[0m \u001b[0mname\u001b[0m\u001b[1;33m)\u001b[0m\u001b[1;33m\u001b[0m\u001b[1;33m\u001b[0m\u001b[0m\n\u001b[0m\u001b[0;32m    549\u001b[0m \u001b[1;33m\u001b[0m\u001b[0m\n\u001b[0;32m    550\u001b[0m   \u001b[1;33m@\u001b[0m\u001b[0mproperty\u001b[0m\u001b[1;33m\u001b[0m\u001b[1;33m\u001b[0m\u001b[0m\n",
      "\u001b[1;31mValueError\u001b[0m: No such layer: Month_Embed"
     ]
    }
   ],
   "source": [
    "plot_embed('Month_Embed', list(range(12)))"
   ]
  },
  {
   "cell_type": "code",
   "execution_count": 52,
   "metadata": {},
   "outputs": [],
   "source": [
    "from sklearn.manifold import TSNE\n",
    "from sklearn.decomposition import PCA"
   ]
  },
  {
   "cell_type": "code",
   "execution_count": 53,
   "metadata": {},
   "outputs": [
    {
     "ename": "NameError",
     "evalue": "name 'day_of_week_embedding' is not defined",
     "output_type": "error",
     "traceback": [
      "\u001b[1;31m---------------------------------------------------------------------------\u001b[0m",
      "\u001b[1;31mNameError\u001b[0m                                 Traceback (most recent call last)",
      "\u001b[1;32m<ipython-input-53-00f84f4b7b18>\u001b[0m in \u001b[0;36m<module>\u001b[1;34m\u001b[0m\n\u001b[1;32m----> 1\u001b[1;33m \u001b[0mday_of_week_embedding\u001b[0m\u001b[1;33m.\u001b[0m\u001b[0mshape\u001b[0m\u001b[1;33m\u001b[0m\u001b[1;33m\u001b[0m\u001b[0m\n\u001b[0m",
      "\u001b[1;31mNameError\u001b[0m: name 'day_of_week_embedding' is not defined"
     ]
    }
   ],
   "source": [
    "day_of_week_embedding.shape"
   ]
  },
  {
   "cell_type": "code",
   "execution_count": 54,
   "metadata": {},
   "outputs": [
    {
     "ename": "NameError",
     "evalue": "name 'day_of_week_embedding' is not defined",
     "output_type": "error",
     "traceback": [
      "\u001b[1;31m---------------------------------------------------------------------------\u001b[0m",
      "\u001b[1;31mNameError\u001b[0m                                 Traceback (most recent call last)",
      "\u001b[1;32m<ipython-input-54-05f8c2c9edfa>\u001b[0m in \u001b[0;36m<module>\u001b[1;34m\u001b[0m\n\u001b[0;32m      1\u001b[0m \u001b[0mtsne\u001b[0m \u001b[1;33m=\u001b[0m \u001b[0mTSNE\u001b[0m\u001b[1;33m(\u001b[0m\u001b[0mn_components\u001b[0m\u001b[1;33m=\u001b[0m\u001b[1;36m2\u001b[0m\u001b[1;33m,\u001b[0m \u001b[0mrandom_state\u001b[0m\u001b[1;33m=\u001b[0m\u001b[1;36m1\u001b[0m\u001b[1;33m,\u001b[0m \u001b[0mlearning_rate\u001b[0m\u001b[1;33m=\u001b[0m\u001b[1;36m10\u001b[0m\u001b[1;33m,\u001b[0m \u001b[0mn_iter\u001b[0m\u001b[1;33m=\u001b[0m\u001b[1;36m10000\u001b[0m\u001b[1;33m)\u001b[0m\u001b[1;33m\u001b[0m\u001b[1;33m\u001b[0m\u001b[0m\n\u001b[1;32m----> 2\u001b[1;33m \u001b[0mY\u001b[0m \u001b[1;33m=\u001b[0m \u001b[0mtsne\u001b[0m\u001b[1;33m.\u001b[0m\u001b[0mfit_transform\u001b[0m\u001b[1;33m(\u001b[0m\u001b[0mday_of_week_embedding\u001b[0m\u001b[1;33m)\u001b[0m\u001b[1;33m\u001b[0m\u001b[1;33m\u001b[0m\u001b[0m\n\u001b[0m\u001b[0;32m      3\u001b[0m \u001b[0mnames\u001b[0m \u001b[1;33m=\u001b[0m \u001b[1;33m[\u001b[0m\u001b[1;34m'Mon'\u001b[0m\u001b[1;33m,\u001b[0m \u001b[1;34m'Tue'\u001b[0m\u001b[1;33m,\u001b[0m \u001b[1;34m'Wed'\u001b[0m\u001b[1;33m,\u001b[0m \u001b[1;34m'Thu'\u001b[0m\u001b[1;33m,\u001b[0m \u001b[1;34m'Fri'\u001b[0m\u001b[1;33m,\u001b[0m \u001b[1;34m'Sat'\u001b[0m\u001b[1;33m,\u001b[0m\u001b[1;34m'Sun'\u001b[0m\u001b[1;33m]\u001b[0m\u001b[1;33m\u001b[0m\u001b[1;33m\u001b[0m\u001b[0m\n\u001b[0;32m      4\u001b[0m \u001b[0mplt\u001b[0m\u001b[1;33m.\u001b[0m\u001b[0mfigure\u001b[0m\u001b[1;33m(\u001b[0m\u001b[0mfigsize\u001b[0m\u001b[1;33m=\u001b[0m\u001b[1;33m(\u001b[0m\u001b[1;36m8\u001b[0m\u001b[1;33m,\u001b[0m\u001b[1;36m8\u001b[0m\u001b[1;33m)\u001b[0m\u001b[1;33m)\u001b[0m\u001b[1;33m\u001b[0m\u001b[1;33m\u001b[0m\u001b[0m\n\u001b[0;32m      5\u001b[0m \u001b[0mplt\u001b[0m\u001b[1;33m.\u001b[0m\u001b[0mscatter\u001b[0m\u001b[1;33m(\u001b[0m\u001b[1;33m-\u001b[0m\u001b[0mY\u001b[0m\u001b[1;33m[\u001b[0m\u001b[1;33m:\u001b[0m\u001b[1;33m,\u001b[0m \u001b[1;36m0\u001b[0m\u001b[1;33m]\u001b[0m\u001b[1;33m,\u001b[0m \u001b[1;33m-\u001b[0m\u001b[0mY\u001b[0m\u001b[1;33m[\u001b[0m\u001b[1;33m:\u001b[0m\u001b[1;33m,\u001b[0m \u001b[1;36m1\u001b[0m\u001b[1;33m]\u001b[0m\u001b[1;33m)\u001b[0m\u001b[1;33m\u001b[0m\u001b[1;33m\u001b[0m\u001b[0m\n",
      "\u001b[1;31mNameError\u001b[0m: name 'day_of_week_embedding' is not defined"
     ]
    }
   ],
   "source": [
    "tsne = TSNE(n_components=2, random_state=1, learning_rate=10, n_iter=10000)\n",
    "Y = tsne.fit_transform(day_of_week_embedding)\n",
    "names = ['Mon', 'Tue', 'Wed', 'Thu', 'Fri', 'Sat','Sun']\n",
    "plt.figure(figsize=(8,8))\n",
    "plt.scatter(-Y[:, 0], -Y[:, 1])\n",
    "for i, txt in enumerate(names):\n",
    "    plt.annotate(txt, (-Y[i, 0],-Y[i, 1]), xytext = (-5, 8), textcoords = 'offset points')"
   ]
  },
  {
   "cell_type": "code",
   "execution_count": null,
   "metadata": {},
   "outputs": [],
   "source": [
    "cat_vars"
   ]
  },
  {
   "cell_type": "markdown",
   "metadata": {},
   "source": [
    "## Store embeddings"
   ]
  },
  {
   "cell_type": "code",
   "execution_count": null,
   "metadata": {},
   "outputs": [],
   "source": [
    "submodel = Model(cat_var_inputs + cont_vars_inputs, merged)"
   ]
  },
  {
   "cell_type": "code",
   "execution_count": null,
   "metadata": {},
   "outputs": [],
   "source": [
    "submodel.summary()"
   ]
  },
  {
   "cell_type": "code",
   "execution_count": null,
   "metadata": {},
   "outputs": [],
   "source": [
    "submodel.save('embeddings_model.hdf5')"
   ]
  },
  {
   "cell_type": "code",
   "execution_count": null,
   "metadata": {},
   "outputs": [],
   "source": []
  }
 ],
 "metadata": {
  "kernelspec": {
   "display_name": "Python 3",
   "language": "python",
   "name": "python3"
  },
  "language_info": {
   "codemirror_mode": {
    "name": "ipython",
    "version": 3
   },
   "file_extension": ".py",
   "mimetype": "text/x-python",
   "name": "python",
   "nbconvert_exporter": "python",
   "pygments_lexer": "ipython3",
   "version": "3.6.12"
  }
 },
 "nbformat": 4,
 "nbformat_minor": 4
}
